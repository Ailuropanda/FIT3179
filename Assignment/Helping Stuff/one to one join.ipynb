{
 "cells": [
  {
   "cell_type": "code",
   "execution_count": 7,
   "metadata": {
    "collapsed": true,
    "pycharm": {
     "is_executing": false
    }
   },
   "outputs": [],
   "source": [
    "import pandas as pd\n",
    "import numpy as np"
   ]
  },
  {
   "cell_type": "code",
   "execution_count": 24,
   "outputs": [],
   "source": [
    "population = pd.read_csv(\"C:/Users/Rohan/Desktop/FIT3179 ASM 2/FIT3179/Assignment/Data/Population Variable/Spreadsheet/ACS_2018_Population_Variables_Tract.csv\")\n",
    "poverty = pd.read_csv(\"C:/Users/Rohan/Desktop/FIT3179 ASM 2/FIT3179/Assignment/Data/Poverty Variable/ACS_2018_Poverty_Status_Variables_Tract.csv\")\n",
    "crimes = pd.read_csv(\"C:/Users/Rohan/Desktop/FIT3179 ASM 2/FIT3179/Assignment/Data/Cleaned/Crime_Incidents_in_2018_counted.csv\")\n",
    "crimes.columns = ['NAME','CRIME_COUNT']"
   ],
   "metadata": {
    "collapsed": false,
    "pycharm": {
     "name": "#%%\n",
     "is_executing": false
    }
   }
  },
  {
   "cell_type": "code",
   "execution_count": 24,
   "outputs": [],
   "source": [],
   "metadata": {
    "collapsed": false,
    "pycharm": {
     "name": "#%%\n",
     "is_executing": false
    }
   }
  },
  {
   "cell_type": "code",
   "execution_count": 25,
   "outputs": [],
   "source": [
    "population = population[['NAME','B01001_001E']]\n",
    "poverty=poverty[['NAME','B17020_002E']]\n"
   ],
   "metadata": {
    "collapsed": false,
    "pycharm": {
     "name": "#%%\n",
     "is_executing": false
    }
   }
  },
  {
   "cell_type": "code",
   "execution_count": 26,
   "outputs": [
    {
     "data": {
      "text/plain": "NAME           object\nB01001_001E     int64\ndtype: object"
     },
     "metadata": {},
     "output_type": "execute_result",
     "execution_count": 26
    }
   ],
   "source": [
    "poverty.dtypes\n",
    "population.dtypes"
   ],
   "metadata": {
    "collapsed": false,
    "pycharm": {
     "name": "#%%\n",
     "is_executing": false
    }
   }
  },
  {
   "cell_type": "code",
   "execution_count": 27,
   "outputs": [],
   "source": [
    "all_data = population.merge(poverty,on=\"NAME\",how=\"left\")\n",
    "all_data = all_data.merge(crimes,on=\"NAME\",how=\"left\")\n",
    "\n"
   ],
   "metadata": {
    "collapsed": false,
    "pycharm": {
     "name": "#%%\n",
     "is_executing": false
    }
   }
  },
  {
   "cell_type": "code",
   "execution_count": 28,
   "outputs": [
    {
     "data": {
      "text/plain": "                NAME  B01001_001E  B17020_002E  CRIME_COUNT\n0     Census Tract 1         5160          290          532\n1  Census Tract 2.01         3817            0           33\n2  Census Tract 2.02         4541          599          579\n3     Census Tract 3         6334         1100          147\n4     Census Tract 4         1428          131           43",
      "text/html": "<div>\n<style scoped>\n    .dataframe tbody tr th:only-of-type {\n        vertical-align: middle;\n    }\n\n    .dataframe tbody tr th {\n        vertical-align: top;\n    }\n\n    .dataframe thead th {\n        text-align: right;\n    }\n</style>\n<table border=\"1\" class=\"dataframe\">\n  <thead>\n    <tr style=\"text-align: right;\">\n      <th></th>\n      <th>NAME</th>\n      <th>B01001_001E</th>\n      <th>B17020_002E</th>\n      <th>CRIME_COUNT</th>\n    </tr>\n  </thead>\n  <tbody>\n    <tr>\n      <th>0</th>\n      <td>Census Tract 1</td>\n      <td>5160</td>\n      <td>290</td>\n      <td>532</td>\n    </tr>\n    <tr>\n      <th>1</th>\n      <td>Census Tract 2.01</td>\n      <td>3817</td>\n      <td>0</td>\n      <td>33</td>\n    </tr>\n    <tr>\n      <th>2</th>\n      <td>Census Tract 2.02</td>\n      <td>4541</td>\n      <td>599</td>\n      <td>579</td>\n    </tr>\n    <tr>\n      <th>3</th>\n      <td>Census Tract 3</td>\n      <td>6334</td>\n      <td>1100</td>\n      <td>147</td>\n    </tr>\n    <tr>\n      <th>4</th>\n      <td>Census Tract 4</td>\n      <td>1428</td>\n      <td>131</td>\n      <td>43</td>\n    </tr>\n  </tbody>\n</table>\n</div>"
     },
     "metadata": {},
     "output_type": "execute_result",
     "execution_count": 28
    }
   ],
   "source": [
    "all_data.head()"
   ],
   "metadata": {
    "collapsed": false,
    "pycharm": {
     "name": "#%%\n",
     "is_executing": false
    }
   }
  },
  {
   "cell_type": "code",
   "execution_count": 29,
   "outputs": [],
   "source": [
    "all_data.columns = ['NAME','POPULATION','POVERTY_COUNT','CRIMES_COUNT']\n",
    "\n",
    "all_data['CRIMES_BY_POP'] = all_data['CRIMES_COUNT']/all_data['POPULATION']"
   ],
   "metadata": {
    "collapsed": false,
    "pycharm": {
     "name": "#%%\n",
     "is_executing": false
    }
   }
  },
  {
   "cell_type": "code",
   "execution_count": 30,
   "outputs": [],
   "source": [
    "all_data.to_csv('../Data/Cleaned/Crime_Incidents_in_2018_counted.csv')\n"
   ],
   "metadata": {
    "collapsed": false,
    "pycharm": {
     "name": "#%%\n",
     "is_executing": false
    }
   }
  },
  {
   "cell_type": "code",
   "execution_count": null,
   "outputs": [],
   "source": [
    "\n"
   ],
   "metadata": {
    "collapsed": false,
    "pycharm": {
     "name": "#%%\n"
    }
   }
  }
 ],
 "metadata": {
  "language_info": {
   "codemirror_mode": {
    "name": "ipython",
    "version": 2
   },
   "file_extension": ".py",
   "mimetype": "text/x-python",
   "name": "python",
   "nbconvert_exporter": "python",
   "pygments_lexer": "ipython2",
   "version": "2.7.6"
  },
  "kernelspec": {
   "name": "python3",
   "language": "python",
   "display_name": "Python 3"
  },
  "pycharm": {
   "stem_cell": {
    "cell_type": "raw",
    "source": [],
    "metadata": {
     "collapsed": false
    }
   }
  }
 },
 "nbformat": 4,
 "nbformat_minor": 0
}