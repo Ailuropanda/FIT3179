{
 "cells": [
  {
   "cell_type": "code",
   "execution_count": 2,
   "metadata": {
    "collapsed": true,
    "pycharm": {
     "is_executing": false
    }
   },
   "outputs": [],
   "source": [
    "import pandas as pd\n",
    "import numpy as np"
   ]
  },
  {
   "cell_type": "code",
   "execution_count": 31,
   "outputs": [],
   "source": [
    "population = pd.read_csv(\"C:/Users/Rohan/Desktop/FIT3179 ASM 2/FIT3179/Assignment/Data/Population Variable/Spreadsheet/ACS_2018_Population_Variables_Tract.csv\")\n",
    "poverty = pd.read_csv(\"C:/Users/Rohan/Desktop/FIT3179 ASM 2/FIT3179/Assignment/Data/Poverty Variable/ACS_2018_Poverty_Status_Variables_Tract.csv\")\n",
    "crimes = pd.read_csv(\"C:/Users/Rohan/Desktop/FIT3179 ASM 2/FIT3179/Assignment/Data/Cleaned/Crime_Incidents_in_2018_counted.csv\")\n",
    "median_income = pd.read_csv(\"C:/Users/Rohan/Desktop/FIT3179 ASM 2/FIT3179/Assignment/Data/Median Income/ACS_2018_Median_Household_Income_Variables_Tract.csv\")\n",
    "unemployment = pd.read_csv(\"C:/Users/Rohan/Desktop/FIT3179 ASM 2/FIT3179/Assignment/Data/Employment Status/ACS_2018_Employment_Status_Variables_Tract.csv\")\n",
    "crimes.columns = ['NAME','CRIME_COUNT']"
   ],
   "metadata": {
    "collapsed": false,
    "pycharm": {
     "name": "#%%\n",
     "is_executing": false
    }
   }
  },
  {
   "cell_type": "code",
   "execution_count": 32,
   "outputs": [
    {
     "data": {
      "text/plain": "                 NAME  CRIME_COUNT\n0      Census Tract 1          532\n1  Census Tract 10.01          426\n2  Census Tract 10.02           86\n3    Census Tract 101          420\n4    Census Tract 102          357",
      "text/html": "<div>\n<style scoped>\n    .dataframe tbody tr th:only-of-type {\n        vertical-align: middle;\n    }\n\n    .dataframe tbody tr th {\n        vertical-align: top;\n    }\n\n    .dataframe thead th {\n        text-align: right;\n    }\n</style>\n<table border=\"1\" class=\"dataframe\">\n  <thead>\n    <tr style=\"text-align: right;\">\n      <th></th>\n      <th>NAME</th>\n      <th>CRIME_COUNT</th>\n    </tr>\n  </thead>\n  <tbody>\n    <tr>\n      <th>0</th>\n      <td>Census Tract 1</td>\n      <td>532</td>\n    </tr>\n    <tr>\n      <th>1</th>\n      <td>Census Tract 10.01</td>\n      <td>426</td>\n    </tr>\n    <tr>\n      <th>2</th>\n      <td>Census Tract 10.02</td>\n      <td>86</td>\n    </tr>\n    <tr>\n      <th>3</th>\n      <td>Census Tract 101</td>\n      <td>420</td>\n    </tr>\n    <tr>\n      <th>4</th>\n      <td>Census Tract 102</td>\n      <td>357</td>\n    </tr>\n  </tbody>\n</table>\n</div>"
     },
     "metadata": {},
     "output_type": "execute_result",
     "execution_count": 32
    }
   ],
   "source": [
    "crimes.head()"
   ],
   "metadata": {
    "collapsed": false,
    "pycharm": {
     "name": "#%%\n",
     "is_executing": false
    }
   }
  },
  {
   "cell_type": "code",
   "execution_count": 33,
   "outputs": [],
   "source": [
    "population = population[['NAME','B01001_001E']]\n",
    "poverty=poverty[['NAME','B17020_002E']]\n",
    "median_income = median_income[['NAME','B19049_001E']]\n",
    "unemployment = unemployment[['NAME','B23025_calc_pctUnempE']]\n"
   ],
   "metadata": {
    "collapsed": false,
    "pycharm": {
     "name": "#%%\n",
     "is_executing": false
    }
   }
  },
  {
   "cell_type": "code",
   "execution_count": 34,
   "outputs": [
    {
     "data": {
      "text/plain": "NAME           object\nB01001_001E     int64\ndtype: object"
     },
     "metadata": {},
     "output_type": "execute_result",
     "execution_count": 34
    }
   ],
   "source": [
    "poverty.dtypes\n",
    "population.dtypes"
   ],
   "metadata": {
    "collapsed": false,
    "pycharm": {
     "name": "#%%\n",
     "is_executing": false
    }
   }
  },
  {
   "cell_type": "code",
   "execution_count": 35,
   "outputs": [],
   "source": [
    "all_data = population.merge(poverty,on=\"NAME\",how=\"left\")\n",
    "all_data = all_data.merge(crimes,on=\"NAME\",how=\"left\")\n",
    "all_data = all_data.merge(median_income,on=\"NAME\",how=\"left\")\n",
    "all_data = all_data.merge(unemployment, on = 'NAME',how='left')\n",
    "\n",
    "\n"
   ],
   "metadata": {
    "collapsed": false,
    "pycharm": {
     "name": "#%%\n",
     "is_executing": false
    }
   }
  },
  {
   "cell_type": "code",
   "execution_count": 36,
   "outputs": [
    {
     "data": {
      "text/plain": "                NAME  B01001_001E  B17020_002E  CRIME_COUNT  B19049_001E  \\\n0     Census Tract 1         5160          290          532     191146.0   \n1  Census Tract 2.01         3817            0           33          NaN   \n2  Census Tract 2.02         4541          599          579     170987.0   \n3     Census Tract 3         6334         1100          147     152120.0   \n4     Census Tract 4         1428          131           43     126731.0   \n\n   B23025_calc_pctUnempE  \n0                    2.4  \n1                    5.5  \n2                    3.5  \n3                    2.6  \n4                    0.7  ",
      "text/html": "<div>\n<style scoped>\n    .dataframe tbody tr th:only-of-type {\n        vertical-align: middle;\n    }\n\n    .dataframe tbody tr th {\n        vertical-align: top;\n    }\n\n    .dataframe thead th {\n        text-align: right;\n    }\n</style>\n<table border=\"1\" class=\"dataframe\">\n  <thead>\n    <tr style=\"text-align: right;\">\n      <th></th>\n      <th>NAME</th>\n      <th>B01001_001E</th>\n      <th>B17020_002E</th>\n      <th>CRIME_COUNT</th>\n      <th>B19049_001E</th>\n      <th>B23025_calc_pctUnempE</th>\n    </tr>\n  </thead>\n  <tbody>\n    <tr>\n      <th>0</th>\n      <td>Census Tract 1</td>\n      <td>5160</td>\n      <td>290</td>\n      <td>532</td>\n      <td>191146.0</td>\n      <td>2.4</td>\n    </tr>\n    <tr>\n      <th>1</th>\n      <td>Census Tract 2.01</td>\n      <td>3817</td>\n      <td>0</td>\n      <td>33</td>\n      <td>NaN</td>\n      <td>5.5</td>\n    </tr>\n    <tr>\n      <th>2</th>\n      <td>Census Tract 2.02</td>\n      <td>4541</td>\n      <td>599</td>\n      <td>579</td>\n      <td>170987.0</td>\n      <td>3.5</td>\n    </tr>\n    <tr>\n      <th>3</th>\n      <td>Census Tract 3</td>\n      <td>6334</td>\n      <td>1100</td>\n      <td>147</td>\n      <td>152120.0</td>\n      <td>2.6</td>\n    </tr>\n    <tr>\n      <th>4</th>\n      <td>Census Tract 4</td>\n      <td>1428</td>\n      <td>131</td>\n      <td>43</td>\n      <td>126731.0</td>\n      <td>0.7</td>\n    </tr>\n  </tbody>\n</table>\n</div>"
     },
     "metadata": {},
     "output_type": "execute_result",
     "execution_count": 36
    }
   ],
   "source": [
    "all_data.head()"
   ],
   "metadata": {
    "collapsed": false,
    "pycharm": {
     "name": "#%%\n",
     "is_executing": false
    }
   }
  },
  {
   "cell_type": "code",
   "execution_count": 37,
   "outputs": [],
   "source": [
    "all_data.columns = ['NAME','POPULATION','POVERTY_COUNT','CRIMES_COUNT','MEDIAN_INCOME','UNEMPLOYMENT']\n"
   ],
   "metadata": {
    "collapsed": false,
    "pycharm": {
     "name": "#%%\n",
     "is_executing": false
    }
   }
  },
  {
   "cell_type": "code",
   "execution_count": 38,
   "outputs": [],
   "source": [
    "all_data.to_csv('../Data/Cleaned/Crime_Incidents_in_2018_counted_new.csv')\n"
   ],
   "metadata": {
    "collapsed": false,
    "pycharm": {
     "name": "#%%\n",
     "is_executing": false
    }
   }
  },
  {
   "cell_type": "code",
   "execution_count": 36,
   "outputs": [],
   "source": [
    "all_data = None"
   ],
   "metadata": {
    "collapsed": false,
    "pycharm": {
     "name": "#%%\n",
     "is_executing": false
    }
   }
  },
  {
   "cell_type": "code",
   "execution_count": null,
   "outputs": [],
   "source": [
    "\n"
   ],
   "metadata": {
    "collapsed": false,
    "pycharm": {
     "name": "#%%\n"
    }
   }
  }
 ],
 "metadata": {
  "language_info": {
   "codemirror_mode": {
    "name": "ipython",
    "version": 2
   },
   "file_extension": ".py",
   "mimetype": "text/x-python",
   "name": "python",
   "nbconvert_exporter": "python",
   "pygments_lexer": "ipython2",
   "version": "2.7.6"
  },
  "kernelspec": {
   "name": "python3",
   "language": "python",
   "display_name": "Python 3"
  },
  "pycharm": {
   "stem_cell": {
    "cell_type": "raw",
    "source": [],
    "metadata": {
     "collapsed": false
    }
   }
  }
 },
 "nbformat": 4,
 "nbformat_minor": 0
}