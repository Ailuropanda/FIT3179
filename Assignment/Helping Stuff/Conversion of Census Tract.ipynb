{
 "cells": [
  {
   "cell_type": "code",
   "execution_count": 77,
   "metadata": {
    "collapsed": true,
    "pycharm": {
     "is_executing": false
    }
   },
   "outputs": [],
   "source": [
    "import pandas as pd\n",
    "import numpy as np"
   ]
  },
  {
   "cell_type": "code",
   "execution_count": 93,
   "outputs": [
    {
     "data": {
      "text/plain": "           X          Y       CCN              REPORT_DAT     SHIFT  METHOD  \\\n0 -77.023981  38.900345      5370  2020/01/16 21:39:05+00   EVENING  OTHERS   \n1 -77.030788  38.911874     16641  2020/01/28 00:14:39+00  MIDNIGHT  OTHERS   \n2 -76.972651  38.857491  10251445  2020/09/11 00:00:00+00  MIDNIGHT     GUN   \n3 -77.044182  38.905654  11139598  2020/08/24 00:00:00+00  MIDNIGHT  OTHERS   \n4 -76.997328  38.885141  20028594  2020/02/16 13:58:27+00       DAY  OTHERS   \n5 -77.015172  38.945388  20028596  2020/02/16 13:51:31+00       DAY  OTHERS   \n6 -77.040307  38.904241  20028597  2020/02/16 13:50:23+00       DAY  OTHERS   \n7 -77.078759  38.948795  20028599  2020/02/16 14:37:26+00       DAY  OTHERS   \n8 -77.016926  38.902526  20028600  2020/02/16 14:12:23+00       DAY  OTHERS   \n9 -77.033265  38.908387  20028617  2020/02/16 16:29:17+00   EVENING  OTHERS   \n\n        OFFENSE                                        BLOCK    XBLOCK  \\\n0  THEFT F/AUTO             800 - 899 BLOCK OF 9TH STREET NW  397920.0   \n1  THEFT F/AUTO      1300 - 1399 BLOCK OF CORCORAN STREET NW  397330.0   \n2      HOMICIDE         2300 - 2399 BLOCK OF AINGER PLACE SE  402374.0   \n3      HOMICIDE             1900 - 1999 BLOCK OF M STREET NW  396168.0   \n4   THEFT/OTHER    600 - 669 BLOCK OF PENNSYLVANIA AVENUE SE  400232.0   \n5  THEFT F/AUTO        200  - 299 BLOCK OF ALLISON STREET NW  398685.0   \n6   THEFT/OTHER   1100 - 1129 BLOCK OF CONNECTICUT AVENUE NW  396504.0   \n7  THEFT F/AUTO          4500 - 4599 BLOCK OF 40TH STREET NW  393173.0   \n8  THEFT F/AUTO               400 - 443 BLOCK OF K STREET NW  398532.0   \n9  THEFT F/AUTO  1400 - 1499 BLOCK OF RHODE ISLAND AVENUE NW  397115.0   \n\n     YBLOCK  ...  BLOCK_GROUP CENSUS_TRACT  VOTING_PRECINCT   LATITUDE  \\\n0  136943.0  ...     005800 1       005800     Precinct 129  38.900337   \n1  138223.0  ...     005001 2       005001      Precinct 16  38.911866   \n2  132186.0  ...     007502 1       007502     Precinct 134  38.857483   \n3  137533.0  ...     010700 1       010700      Precinct 17  38.905646   \n4  135255.0  ...     006500 1       006500      Precinct 89  38.885133   \n5  141943.0  ...     002202 1       002202      Precinct 57  38.945380   \n6  137376.0  ...     010700 1       010700      Precinct 17  38.904233   \n7  142324.0  ...     001100 4       001100      Precinct 32  38.948787   \n8  137185.0  ...     004702 1       004702       Precinct 1  38.902518   \n9  137836.0  ...     005201 1       005201      Precinct 17  38.908379   \n\n   LONGITUDE                        BID              START_DATE  \\\n0 -77.023979                   DOWNTOWN  2020/01/10 21:48:51+00   \n1 -77.030785                        NaN  2020/01/28 00:14:58+00   \n2 -76.972648                        NaN  2010/09/02 00:00:00+00   \n3 -77.044180            GOLDEN TRIANGLE  2011/09/23 02:40:00+00   \n4 -76.997326               CAPITOL HILL  2020/02/16 13:07:26+00   \n5 -77.015169                        NaN  2020/02/16 13:10:55+00   \n6 -77.040305            GOLDEN TRIANGLE  2020/02/16 13:00:10+00   \n7 -77.078757                        NaN  2020/02/16 12:50:16+00   \n8 -77.016924  MOUNT VERNON TRIANGLE CID  2020/02/16 13:24:26+00   \n9 -77.033263                        NaN  2020/02/16 04:46:20+00   \n\n                 END_DATE   OBJECTID  OCTO_RECORD_ID  \n0  2020/01/16 21:48:54+00  507274150     00005370-01  \n1  2020/01/28 00:15:02+00  507274151     00016641-01  \n2  2010/09/02 00:00:00+00  507370795     10251445-01  \n3  1970/01/01 00:00:00+00  507394637     11139598-01  \n4  2020/02/16 13:10:14+00  507654725     20028594-01  \n5  2020/02/16 13:51:44+00  507654726     20028596-01  \n6  2020/02/16 13:20:32+00  507654727     20028597-01  \n7  2020/02/16 13:53:35+00  507654728     20028599-01  \n8  2020/02/16 14:00:46+00  507654729     20028600-01  \n9  2020/02/16 05:50:42+00  507654730     20028617-01  \n\n[10 rows x 25 columns]",
      "text/html": "<div>\n<style scoped>\n    .dataframe tbody tr th:only-of-type {\n        vertical-align: middle;\n    }\n\n    .dataframe tbody tr th {\n        vertical-align: top;\n    }\n\n    .dataframe thead th {\n        text-align: right;\n    }\n</style>\n<table border=\"1\" class=\"dataframe\">\n  <thead>\n    <tr style=\"text-align: right;\">\n      <th></th>\n      <th>X</th>\n      <th>Y</th>\n      <th>CCN</th>\n      <th>REPORT_DAT</th>\n      <th>SHIFT</th>\n      <th>METHOD</th>\n      <th>OFFENSE</th>\n      <th>BLOCK</th>\n      <th>XBLOCK</th>\n      <th>YBLOCK</th>\n      <th>...</th>\n      <th>BLOCK_GROUP</th>\n      <th>CENSUS_TRACT</th>\n      <th>VOTING_PRECINCT</th>\n      <th>LATITUDE</th>\n      <th>LONGITUDE</th>\n      <th>BID</th>\n      <th>START_DATE</th>\n      <th>END_DATE</th>\n      <th>OBJECTID</th>\n      <th>OCTO_RECORD_ID</th>\n    </tr>\n  </thead>\n  <tbody>\n    <tr>\n      <th>0</th>\n      <td>-77.023981</td>\n      <td>38.900345</td>\n      <td>5370</td>\n      <td>2020/01/16 21:39:05+00</td>\n      <td>EVENING</td>\n      <td>OTHERS</td>\n      <td>THEFT F/AUTO</td>\n      <td>800 - 899 BLOCK OF 9TH STREET NW</td>\n      <td>397920.0</td>\n      <td>136943.0</td>\n      <td>...</td>\n      <td>005800 1</td>\n      <td>005800</td>\n      <td>Precinct 129</td>\n      <td>38.900337</td>\n      <td>-77.023979</td>\n      <td>DOWNTOWN</td>\n      <td>2020/01/10 21:48:51+00</td>\n      <td>2020/01/16 21:48:54+00</td>\n      <td>507274150</td>\n      <td>00005370-01</td>\n    </tr>\n    <tr>\n      <th>1</th>\n      <td>-77.030788</td>\n      <td>38.911874</td>\n      <td>16641</td>\n      <td>2020/01/28 00:14:39+00</td>\n      <td>MIDNIGHT</td>\n      <td>OTHERS</td>\n      <td>THEFT F/AUTO</td>\n      <td>1300 - 1399 BLOCK OF CORCORAN STREET NW</td>\n      <td>397330.0</td>\n      <td>138223.0</td>\n      <td>...</td>\n      <td>005001 2</td>\n      <td>005001</td>\n      <td>Precinct 16</td>\n      <td>38.911866</td>\n      <td>-77.030785</td>\n      <td>NaN</td>\n      <td>2020/01/28 00:14:58+00</td>\n      <td>2020/01/28 00:15:02+00</td>\n      <td>507274151</td>\n      <td>00016641-01</td>\n    </tr>\n    <tr>\n      <th>2</th>\n      <td>-76.972651</td>\n      <td>38.857491</td>\n      <td>10251445</td>\n      <td>2020/09/11 00:00:00+00</td>\n      <td>MIDNIGHT</td>\n      <td>GUN</td>\n      <td>HOMICIDE</td>\n      <td>2300 - 2399 BLOCK OF AINGER PLACE SE</td>\n      <td>402374.0</td>\n      <td>132186.0</td>\n      <td>...</td>\n      <td>007502 1</td>\n      <td>007502</td>\n      <td>Precinct 134</td>\n      <td>38.857483</td>\n      <td>-76.972648</td>\n      <td>NaN</td>\n      <td>2010/09/02 00:00:00+00</td>\n      <td>2010/09/02 00:00:00+00</td>\n      <td>507370795</td>\n      <td>10251445-01</td>\n    </tr>\n    <tr>\n      <th>3</th>\n      <td>-77.044182</td>\n      <td>38.905654</td>\n      <td>11139598</td>\n      <td>2020/08/24 00:00:00+00</td>\n      <td>MIDNIGHT</td>\n      <td>OTHERS</td>\n      <td>HOMICIDE</td>\n      <td>1900 - 1999 BLOCK OF M STREET NW</td>\n      <td>396168.0</td>\n      <td>137533.0</td>\n      <td>...</td>\n      <td>010700 1</td>\n      <td>010700</td>\n      <td>Precinct 17</td>\n      <td>38.905646</td>\n      <td>-77.044180</td>\n      <td>GOLDEN TRIANGLE</td>\n      <td>2011/09/23 02:40:00+00</td>\n      <td>1970/01/01 00:00:00+00</td>\n      <td>507394637</td>\n      <td>11139598-01</td>\n    </tr>\n    <tr>\n      <th>4</th>\n      <td>-76.997328</td>\n      <td>38.885141</td>\n      <td>20028594</td>\n      <td>2020/02/16 13:58:27+00</td>\n      <td>DAY</td>\n      <td>OTHERS</td>\n      <td>THEFT/OTHER</td>\n      <td>600 - 669 BLOCK OF PENNSYLVANIA AVENUE SE</td>\n      <td>400232.0</td>\n      <td>135255.0</td>\n      <td>...</td>\n      <td>006500 1</td>\n      <td>006500</td>\n      <td>Precinct 89</td>\n      <td>38.885133</td>\n      <td>-76.997326</td>\n      <td>CAPITOL HILL</td>\n      <td>2020/02/16 13:07:26+00</td>\n      <td>2020/02/16 13:10:14+00</td>\n      <td>507654725</td>\n      <td>20028594-01</td>\n    </tr>\n    <tr>\n      <th>5</th>\n      <td>-77.015172</td>\n      <td>38.945388</td>\n      <td>20028596</td>\n      <td>2020/02/16 13:51:31+00</td>\n      <td>DAY</td>\n      <td>OTHERS</td>\n      <td>THEFT F/AUTO</td>\n      <td>200  - 299 BLOCK OF ALLISON STREET NW</td>\n      <td>398685.0</td>\n      <td>141943.0</td>\n      <td>...</td>\n      <td>002202 1</td>\n      <td>002202</td>\n      <td>Precinct 57</td>\n      <td>38.945380</td>\n      <td>-77.015169</td>\n      <td>NaN</td>\n      <td>2020/02/16 13:10:55+00</td>\n      <td>2020/02/16 13:51:44+00</td>\n      <td>507654726</td>\n      <td>20028596-01</td>\n    </tr>\n    <tr>\n      <th>6</th>\n      <td>-77.040307</td>\n      <td>38.904241</td>\n      <td>20028597</td>\n      <td>2020/02/16 13:50:23+00</td>\n      <td>DAY</td>\n      <td>OTHERS</td>\n      <td>THEFT/OTHER</td>\n      <td>1100 - 1129 BLOCK OF CONNECTICUT AVENUE NW</td>\n      <td>396504.0</td>\n      <td>137376.0</td>\n      <td>...</td>\n      <td>010700 1</td>\n      <td>010700</td>\n      <td>Precinct 17</td>\n      <td>38.904233</td>\n      <td>-77.040305</td>\n      <td>GOLDEN TRIANGLE</td>\n      <td>2020/02/16 13:00:10+00</td>\n      <td>2020/02/16 13:20:32+00</td>\n      <td>507654727</td>\n      <td>20028597-01</td>\n    </tr>\n    <tr>\n      <th>7</th>\n      <td>-77.078759</td>\n      <td>38.948795</td>\n      <td>20028599</td>\n      <td>2020/02/16 14:37:26+00</td>\n      <td>DAY</td>\n      <td>OTHERS</td>\n      <td>THEFT F/AUTO</td>\n      <td>4500 - 4599 BLOCK OF 40TH STREET NW</td>\n      <td>393173.0</td>\n      <td>142324.0</td>\n      <td>...</td>\n      <td>001100 4</td>\n      <td>001100</td>\n      <td>Precinct 32</td>\n      <td>38.948787</td>\n      <td>-77.078757</td>\n      <td>NaN</td>\n      <td>2020/02/16 12:50:16+00</td>\n      <td>2020/02/16 13:53:35+00</td>\n      <td>507654728</td>\n      <td>20028599-01</td>\n    </tr>\n    <tr>\n      <th>8</th>\n      <td>-77.016926</td>\n      <td>38.902526</td>\n      <td>20028600</td>\n      <td>2020/02/16 14:12:23+00</td>\n      <td>DAY</td>\n      <td>OTHERS</td>\n      <td>THEFT F/AUTO</td>\n      <td>400 - 443 BLOCK OF K STREET NW</td>\n      <td>398532.0</td>\n      <td>137185.0</td>\n      <td>...</td>\n      <td>004702 1</td>\n      <td>004702</td>\n      <td>Precinct 1</td>\n      <td>38.902518</td>\n      <td>-77.016924</td>\n      <td>MOUNT VERNON TRIANGLE CID</td>\n      <td>2020/02/16 13:24:26+00</td>\n      <td>2020/02/16 14:00:46+00</td>\n      <td>507654729</td>\n      <td>20028600-01</td>\n    </tr>\n    <tr>\n      <th>9</th>\n      <td>-77.033265</td>\n      <td>38.908387</td>\n      <td>20028617</td>\n      <td>2020/02/16 16:29:17+00</td>\n      <td>EVENING</td>\n      <td>OTHERS</td>\n      <td>THEFT F/AUTO</td>\n      <td>1400 - 1499 BLOCK OF RHODE ISLAND AVENUE NW</td>\n      <td>397115.0</td>\n      <td>137836.0</td>\n      <td>...</td>\n      <td>005201 1</td>\n      <td>005201</td>\n      <td>Precinct 17</td>\n      <td>38.908379</td>\n      <td>-77.033263</td>\n      <td>NaN</td>\n      <td>2020/02/16 04:46:20+00</td>\n      <td>2020/02/16 05:50:42+00</td>\n      <td>507654730</td>\n      <td>20028617-01</td>\n    </tr>\n  </tbody>\n</table>\n<p>10 rows × 25 columns</p>\n</div>"
     },
     "metadata": {},
     "output_type": "execute_result",
     "execution_count": 93
    }
   ],
   "source": [
    "df = pd.read_csv(\"../Data/Crime_Incidents_in_2020.csv\",converters={'CENSUS_TRACT' : str})\n",
    "df.head(10)"
   ],
   "metadata": {
    "collapsed": false,
    "pycharm": {
     "name": "#%%\n",
     "is_executing": false
    }
   }
  },
  {
   "cell_type": "code",
   "execution_count": 131,
   "outputs": [],
   "source": [
    "# test_code1 = '010300'\n",
    "# test_code2 = '001702'\n",
    "# test_code3 = '000902'\n",
    "# answer_code1 = 'Census Tract 103'\n",
    "# answer_code2 = 'Census Tract 17.02'\n",
    "# answer_code3 = 'Census Tract 9.02'\n",
    "def conversion(census_code):\n",
    "    if(census_code != ''):\n",
    "        new_code = census_code[:4] + '.' + census_code[4:]\n",
    "        if(new_code.split('.')[1] == '00'):\n",
    "            new_code = int(new_code.split('.')[0])\n",
    "        else:\n",
    "            new_code= float(new_code)\n",
    "        return 'Census Tract ' + str(new_code)\n",
    "    return ''\n"
   ],
   "metadata": {
    "collapsed": false,
    "pycharm": {
     "name": "#%%\n",
     "is_executing": false
    }
   }
  },
  {
   "cell_type": "code",
   "source": [
    "test = df['CENSUS_TRACT'].tolist()\n",
    "len(test)\n"
   ],
   "metadata": {
    "collapsed": false,
    "pycharm": {
     "name": "#%%\n",
     "is_executing": false
    }
   },
   "execution_count": 132,
   "outputs": [
    {
     "data": {
      "text/plain": "21618"
     },
     "metadata": {},
     "output_type": "execute_result",
     "execution_count": 132
    }
   ]
  },
  {
   "cell_type": "code",
   "execution_count": 133,
   "outputs": [],
   "source": [
    "new_column = []\n",
    "for i in test:\n",
    "    new_code = conversion(i)\n",
    "    new_column.append(new_code)\n",
    "\n"
   ],
   "metadata": {
    "collapsed": false,
    "pycharm": {
     "name": "#%%\n",
     "is_executing": false
    }
   }
  },
  {
   "cell_type": "code",
   "execution_count": 136,
   "outputs": [],
   "source": [
    "df['CENSUS_KEY'] = new_column\n",
    "\n",
    "df.to_csv('../Data/Cleaned/Crime_Incidents_in_2020.csv')"
   ],
   "metadata": {
    "collapsed": false,
    "pycharm": {
     "name": "#%%\n",
     "is_executing": false
    }
   }
  },
  {
   "cell_type": "code",
   "execution_count": null,
   "outputs": [],
   "source": [
    "\n"
   ],
   "metadata": {
    "collapsed": false,
    "pycharm": {
     "name": "#%%\n"
    }
   }
  }
 ],
 "metadata": {
  "language_info": {
   "codemirror_mode": {
    "name": "ipython",
    "version": 2
   },
   "file_extension": ".py",
   "mimetype": "text/x-python",
   "name": "python",
   "nbconvert_exporter": "python",
   "pygments_lexer": "ipython2",
   "version": "2.7.6"
  },
  "kernelspec": {
   "name": "python3",
   "language": "python",
   "display_name": "Python 3"
  },
  "pycharm": {
   "stem_cell": {
    "cell_type": "raw",
    "source": [],
    "metadata": {
     "collapsed": false
    }
   }
  }
 },
 "nbformat": 4,
 "nbformat_minor": 0
}