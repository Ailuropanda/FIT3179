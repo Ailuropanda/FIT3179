{
 "cells": [
  {
   "cell_type": "code",
   "execution_count": 15,
   "outputs": [],
   "source": [
    " \n",
    "import pandas as pd\n",
    "import numpy as np\n",
    "#%|%\n",
    "df = pd.read_csv(\"../Data/Crime_Incidents/Crime_Incidents_in_2018.csv\",converters={'CENSUS_TRACT' : str})\n"
   ],
   "metadata": {
    "collapsed": false,
    "pycharm": {
     "name": "#%%\n",
     "is_executing": false
    }
   }
  },
  {
   "cell_type": "code",
   "execution_count": 16,
   "outputs": [],
   "source": [
    "# test_code1 = '010300'\n",
    "# test_code2 = '001702'\n",
    "# test_code3 = '000902'\n",
    "# answer_code1 = 'Census Tract 103'\n",
    "# answer_code2 = 'Census Tract 17.02'\n",
    "# answer_code3 = 'Census Tract 9.02'\n",
    "def conversion(census_code):\n",
    "    if(census_code != ''):\n",
    "        new_code = census_code[:4] + '.' + census_code[4:]\n",
    "        if(new_code.split('.')[1] == '00'):\n",
    "            new_code = int(new_code.split('.')[0])\n",
    "        else:\n",
    "            new_code= float(new_code)\n",
    "            new_code = \"{:.2f}\".format(new_code)\n",
    "        return 'Census Tract ' + str(new_code)\n",
    "    return ''\n"
   ],
   "metadata": {
    "collapsed": false,
    "pycharm": {
     "name": "#%%\n",
     "is_executing": false
    }
   }
  },
  {
   "cell_type": "code",
   "source": [
    "test = df['CENSUS_TRACT'].tolist()\n",
    "len(test)\n"
   ],
   "metadata": {
    "collapsed": false,
    "pycharm": {
     "name": "#%%\n",
     "is_executing": false
    }
   },
   "execution_count": 17,
   "outputs": [
    {
     "data": {
      "text/plain": "33754"
     },
     "metadata": {},
     "output_type": "execute_result",
     "execution_count": 17
    }
   ]
  },
  {
   "cell_type": "code",
   "execution_count": 18,
   "outputs": [],
   "source": [
    "new_column = []\n",
    "for i in test:\n",
    "    new_code = conversion(i)\n",
    "    new_column.append(new_code)\n",
    "\n"
   ],
   "metadata": {
    "collapsed": false,
    "pycharm": {
     "name": "#%%\n",
     "is_executing": false
    }
   }
  },
  {
   "cell_type": "code",
   "execution_count": 19,
   "outputs": [],
   "source": [
    "df['CENSUSKEY'] = new_column\n",
    "df = df[df['OFFENSE'] == \"THEFT F/AUTO\"]\n",
    "\n",
    "\n",
    "#df.to_csv('../Data/Cleaned/Crime_Incidents_in_2018.csv')\n",
    "\n"
   ],
   "metadata": {
    "collapsed": false,
    "pycharm": {
     "name": "#%%\n",
     "is_executing": false
    }
   }
  },
  {
   "cell_type": "code",
   "execution_count": 20,
   "outputs": [],
   "source": [
    "\n",
    "df.size\n",
    "\n",
    "\n",
    "\n",
    "counted = df.groupby('CENSUSKEY').count()\n",
    "\n",
    "counted.to_csv('../Data/Cleaned/Crime_Incidents_in_2018_counted (THEFT).csv')"
   ],
   "metadata": {
    "collapsed": false,
    "pycharm": {
     "name": "#%%\n",
     "is_executing": false
    }
   }
  },
  {
   "cell_type": "code",
   "execution_count": 21,
   "outputs": [
    {
     "data": {
      "text/plain": "                     X   Y  CCN  REPORT_DAT  SHIFT  METHOD  OFFENSE  BLOCK  \\\nCENSUSKEY                                                                    \n                     9   9    9           9      9       9        9      9   \nCensus Tract 1      13  13   13          13     13      13       13     13   \nCensus Tract 10.01   6   6    6           6      6       6        6      6   \nCensus Tract 10.02   1   1    1           1      1       1        1      1   \nCensus Tract 101    16  16   16          16     16      16       16     16   \nCensus Tract 102     7   7    7           7      7       7        7      7   \nCensus Tract 103     3   3    3           3      3       3        3      3   \nCensus Tract 104    30  30   30          30     30      30       30     30   \nCensus Tract 105     4   4    4           4      4       4        4      4   \nCensus Tract 106    21  21   21          21     21      21       21     21   \n\n                    XBLOCK  YBLOCK  ...  BLOCK_GROUP  CENSUS_TRACT  \\\nCENSUSKEY                           ...                              \n                         9       9  ...            0             9   \nCensus Tract 1          13      13  ...           13            13   \nCensus Tract 10.01       6       6  ...            6             6   \nCensus Tract 10.02       1       1  ...            1             1   \nCensus Tract 101        16      16  ...           16            16   \nCensus Tract 102         7       7  ...            7             7   \nCensus Tract 103         3       3  ...            3             3   \nCensus Tract 104        30      30  ...           30            30   \nCensus Tract 105         4       4  ...            4             4   \nCensus Tract 106        21      21  ...           21            21   \n\n                    VOTING_PRECINCT  LATITUDE  LONGITUDE  BID  START_DATE  \\\nCENSUSKEY                                                                   \n                                  9         9          9    0           9   \nCensus Tract 1                   13        13         13    9          13   \nCensus Tract 10.01                6         6          6    0           6   \nCensus Tract 10.02                1         1          1    0           1   \nCensus Tract 101                 16        16         16   16          16   \nCensus Tract 102                  7         7          7    7           7   \nCensus Tract 103                  3         3          3    0           3   \nCensus Tract 104                 30        30         30    0          30   \nCensus Tract 105                  4         4          4    4           4   \nCensus Tract 106                 21        21         21   19          21   \n\n                    END_DATE  OBJECTID  OCTO_RECORD_ID  \nCENSUSKEY                                               \n                           9         9               9  \nCensus Tract 1            13        13              13  \nCensus Tract 10.01         6         6               6  \nCensus Tract 10.02         1         1               1  \nCensus Tract 101          16        16              16  \nCensus Tract 102           7         7               7  \nCensus Tract 103           3         3               3  \nCensus Tract 104          30        30              30  \nCensus Tract 105           4         4               4  \nCensus Tract 106          21        21              21  \n\n[10 rows x 25 columns]",
      "text/html": "<div>\n<style scoped>\n    .dataframe tbody tr th:only-of-type {\n        vertical-align: middle;\n    }\n\n    .dataframe tbody tr th {\n        vertical-align: top;\n    }\n\n    .dataframe thead th {\n        text-align: right;\n    }\n</style>\n<table border=\"1\" class=\"dataframe\">\n  <thead>\n    <tr style=\"text-align: right;\">\n      <th></th>\n      <th>X</th>\n      <th>Y</th>\n      <th>CCN</th>\n      <th>REPORT_DAT</th>\n      <th>SHIFT</th>\n      <th>METHOD</th>\n      <th>OFFENSE</th>\n      <th>BLOCK</th>\n      <th>XBLOCK</th>\n      <th>YBLOCK</th>\n      <th>...</th>\n      <th>BLOCK_GROUP</th>\n      <th>CENSUS_TRACT</th>\n      <th>VOTING_PRECINCT</th>\n      <th>LATITUDE</th>\n      <th>LONGITUDE</th>\n      <th>BID</th>\n      <th>START_DATE</th>\n      <th>END_DATE</th>\n      <th>OBJECTID</th>\n      <th>OCTO_RECORD_ID</th>\n    </tr>\n    <tr>\n      <th>CENSUSKEY</th>\n      <th></th>\n      <th></th>\n      <th></th>\n      <th></th>\n      <th></th>\n      <th></th>\n      <th></th>\n      <th></th>\n      <th></th>\n      <th></th>\n      <th></th>\n      <th></th>\n      <th></th>\n      <th></th>\n      <th></th>\n      <th></th>\n      <th></th>\n      <th></th>\n      <th></th>\n      <th></th>\n      <th></th>\n    </tr>\n  </thead>\n  <tbody>\n    <tr>\n      <th></th>\n      <td>9</td>\n      <td>9</td>\n      <td>9</td>\n      <td>9</td>\n      <td>9</td>\n      <td>9</td>\n      <td>9</td>\n      <td>9</td>\n      <td>9</td>\n      <td>9</td>\n      <td>...</td>\n      <td>0</td>\n      <td>9</td>\n      <td>9</td>\n      <td>9</td>\n      <td>9</td>\n      <td>0</td>\n      <td>9</td>\n      <td>9</td>\n      <td>9</td>\n      <td>9</td>\n    </tr>\n    <tr>\n      <th>Census Tract 1</th>\n      <td>13</td>\n      <td>13</td>\n      <td>13</td>\n      <td>13</td>\n      <td>13</td>\n      <td>13</td>\n      <td>13</td>\n      <td>13</td>\n      <td>13</td>\n      <td>13</td>\n      <td>...</td>\n      <td>13</td>\n      <td>13</td>\n      <td>13</td>\n      <td>13</td>\n      <td>13</td>\n      <td>9</td>\n      <td>13</td>\n      <td>13</td>\n      <td>13</td>\n      <td>13</td>\n    </tr>\n    <tr>\n      <th>Census Tract 10.01</th>\n      <td>6</td>\n      <td>6</td>\n      <td>6</td>\n      <td>6</td>\n      <td>6</td>\n      <td>6</td>\n      <td>6</td>\n      <td>6</td>\n      <td>6</td>\n      <td>6</td>\n      <td>...</td>\n      <td>6</td>\n      <td>6</td>\n      <td>6</td>\n      <td>6</td>\n      <td>6</td>\n      <td>0</td>\n      <td>6</td>\n      <td>6</td>\n      <td>6</td>\n      <td>6</td>\n    </tr>\n    <tr>\n      <th>Census Tract 10.02</th>\n      <td>1</td>\n      <td>1</td>\n      <td>1</td>\n      <td>1</td>\n      <td>1</td>\n      <td>1</td>\n      <td>1</td>\n      <td>1</td>\n      <td>1</td>\n      <td>1</td>\n      <td>...</td>\n      <td>1</td>\n      <td>1</td>\n      <td>1</td>\n      <td>1</td>\n      <td>1</td>\n      <td>0</td>\n      <td>1</td>\n      <td>1</td>\n      <td>1</td>\n      <td>1</td>\n    </tr>\n    <tr>\n      <th>Census Tract 101</th>\n      <td>16</td>\n      <td>16</td>\n      <td>16</td>\n      <td>16</td>\n      <td>16</td>\n      <td>16</td>\n      <td>16</td>\n      <td>16</td>\n      <td>16</td>\n      <td>16</td>\n      <td>...</td>\n      <td>16</td>\n      <td>16</td>\n      <td>16</td>\n      <td>16</td>\n      <td>16</td>\n      <td>16</td>\n      <td>16</td>\n      <td>16</td>\n      <td>16</td>\n      <td>16</td>\n    </tr>\n    <tr>\n      <th>Census Tract 102</th>\n      <td>7</td>\n      <td>7</td>\n      <td>7</td>\n      <td>7</td>\n      <td>7</td>\n      <td>7</td>\n      <td>7</td>\n      <td>7</td>\n      <td>7</td>\n      <td>7</td>\n      <td>...</td>\n      <td>7</td>\n      <td>7</td>\n      <td>7</td>\n      <td>7</td>\n      <td>7</td>\n      <td>7</td>\n      <td>7</td>\n      <td>7</td>\n      <td>7</td>\n      <td>7</td>\n    </tr>\n    <tr>\n      <th>Census Tract 103</th>\n      <td>3</td>\n      <td>3</td>\n      <td>3</td>\n      <td>3</td>\n      <td>3</td>\n      <td>3</td>\n      <td>3</td>\n      <td>3</td>\n      <td>3</td>\n      <td>3</td>\n      <td>...</td>\n      <td>3</td>\n      <td>3</td>\n      <td>3</td>\n      <td>3</td>\n      <td>3</td>\n      <td>0</td>\n      <td>3</td>\n      <td>3</td>\n      <td>3</td>\n      <td>3</td>\n    </tr>\n    <tr>\n      <th>Census Tract 104</th>\n      <td>30</td>\n      <td>30</td>\n      <td>30</td>\n      <td>30</td>\n      <td>30</td>\n      <td>30</td>\n      <td>30</td>\n      <td>30</td>\n      <td>30</td>\n      <td>30</td>\n      <td>...</td>\n      <td>30</td>\n      <td>30</td>\n      <td>30</td>\n      <td>30</td>\n      <td>30</td>\n      <td>0</td>\n      <td>30</td>\n      <td>30</td>\n      <td>30</td>\n      <td>30</td>\n    </tr>\n    <tr>\n      <th>Census Tract 105</th>\n      <td>4</td>\n      <td>4</td>\n      <td>4</td>\n      <td>4</td>\n      <td>4</td>\n      <td>4</td>\n      <td>4</td>\n      <td>4</td>\n      <td>4</td>\n      <td>4</td>\n      <td>...</td>\n      <td>4</td>\n      <td>4</td>\n      <td>4</td>\n      <td>4</td>\n      <td>4</td>\n      <td>4</td>\n      <td>4</td>\n      <td>4</td>\n      <td>4</td>\n      <td>4</td>\n    </tr>\n    <tr>\n      <th>Census Tract 106</th>\n      <td>21</td>\n      <td>21</td>\n      <td>21</td>\n      <td>21</td>\n      <td>21</td>\n      <td>21</td>\n      <td>21</td>\n      <td>21</td>\n      <td>21</td>\n      <td>21</td>\n      <td>...</td>\n      <td>21</td>\n      <td>21</td>\n      <td>21</td>\n      <td>21</td>\n      <td>21</td>\n      <td>19</td>\n      <td>21</td>\n      <td>21</td>\n      <td>21</td>\n      <td>21</td>\n    </tr>\n  </tbody>\n</table>\n<p>10 rows × 25 columns</p>\n</div>"
     },
     "metadata": {},
     "output_type": "execute_result",
     "execution_count": 21
    }
   ],
   "source": [
    "population = pd.read_csv(\"C:/Users/Rohan/Desktop/FIT3179 ASM 2/FIT3179/Assignment/Data/Population Variable/Spreadsheet/ACS_2018_Population_Variables_Tract.csv\")\n",
    "\n",
    "counted.head(10)"
   ],
   "metadata": {
    "collapsed": false,
    "pycharm": {
     "name": "#%%\n",
     "is_executing": false
    }
   }
  },
  {
   "cell_type": "code",
   "execution_count": null,
   "outputs": [],
   "source": [
    "\n"
   ],
   "metadata": {
    "collapsed": false,
    "pycharm": {
     "name": "#%%\n"
    }
   }
  }
 ],
 "metadata": {
  "language_info": {
   "codemirror_mode": {
    "name": "ipython",
    "version": 2
   },
   "file_extension": ".py",
   "mimetype": "text/x-python",
   "name": "python",
   "nbconvert_exporter": "python",
   "pygments_lexer": "ipython2",
   "version": "2.7.6"
  },
  "kernelspec": {
   "name": "python3",
   "language": "python",
   "display_name": "Python 3"
  },
  "pycharm": {
   "stem_cell": {
    "cell_type": "raw",
    "source": [],
    "metadata": {
     "collapsed": false
    }
   }
  }
 },
 "nbformat": 4,
 "nbformat_minor": 0
}