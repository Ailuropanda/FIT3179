{
 "cells": [
  {
   "cell_type": "code",
   "execution_count": 8,
   "metadata": {
    "collapsed": true,
    "pycharm": {
     "is_executing": false
    }
   },
   "outputs": [
    {
     "data": {
      "text/plain": "           X          Y       CCN              REPORT_DAT     SHIFT  METHOD  \\\n0 -76.997558  38.894384   2111617  2017/02/06 20:11:14+00   EVENING  OTHERS   \n1 -77.058663  38.906846   7093973  2017/06/03 12:54:27+00       DAY  OTHERS   \n2 -77.018036  38.960747   9251904  2017/04/07 00:00:00+00  MIDNIGHT  OTHERS   \n3 -76.984955  38.915147  14060710  2017/03/13 00:00:00+00  MIDNIGHT  OTHERS   \n4 -77.008394  38.897203  16167245  2017/01/08 00:00:00+00  MIDNIGHT  OTHERS   \n5 -77.023965  38.887571  16186364  2017/01/25 12:51:25+00       DAY  OTHERS   \n6 -77.023983  38.906444  16200706  2017/01/08 14:08:58+00       DAY  OTHERS   \n7 -77.027211  38.935098  16402582  2017/01/03 06:26:18+00  MIDNIGHT  OTHERS   \n8 -77.066840  38.958954  16402583  2017/01/03 06:44:15+00  MIDNIGHT  OTHERS   \n9 -76.996175  38.890375  16402584  2017/01/03 07:02:06+00       DAY  OTHERS   \n\n        OFFENSE                                      BLOCK    XBLOCK  \\\n0   THEFT/OTHER      600 - 669 BLOCK OF MARYLAND AVENUE NE  400212.0   \n1  THEFT F/AUTO           2900 - 2999 BLOCK OF N STREET NW  394912.0   \n2      HOMICIDE        5800  - 5899 BLOCK OF 4TH STREET NW  398437.0   \n3      HOMICIDE     2000 - 2099 BLOCK OF FENWICK STREET NE  401305.0   \n4      HOMICIDE    1 - 99 BLOCK OF MASSACHUSETTS AVENUE NE  399272.0   \n5  THEFT F/AUTO  700 - 999 BLOCK OF INDEPENDENCE AVENUE SW  397921.0   \n6  THEFT F/AUTO         1200 - 1299 BLOCK OF 9TH STREET NW  397920.0   \n7   THEFT/OTHER        3600 - 3699 BLOCK OF 10TH STREET NW  397641.0   \n8   THEFT/OTHER      5302 - 5329 BLOCK OF NEVADA AVENUE NW  394207.0   \n9   THEFT/OTHER              1 - 99 BLOCK OF 7TH STREET NE  400332.0   \n\n     YBLOCK  ...  BLOCK_GROUP CENSUS_TRACT  VOTING_PRECINCT   LATITUDE  \\\n0  136281.0  ...     008302 1       008302      Precinct 84  38.894376   \n1  137666.0  ...     000100 4       000100       Precinct 5  38.906838   \n2  143648.0  ...     001902 1       001902      Precinct 58  38.960739   \n3  138586.0  ...     008803 1       008803      Precinct 76  38.915139   \n4  136594.0  ...     006202 1       006202     Precinct 130  38.897195   \n5  135525.0  ...     010200 2       010200     Precinct 142  38.887563   \n6  137620.0  ...     004902 2       004902     Precinct 129  38.906436   \n7  140801.0  ...     002900 1       002900      Precinct 42  38.935091   \n8  143451.0  ...     001402 3       001402     Precinct 138  38.958947   \n9  135836.0  ...     008200 1       008200      Precinct 85  38.890367   \n\n   LONGITUDE           BID              START_DATE                END_DATE  \\\n0 -76.997556  CAPITOL HILL  2017/02/01 11:55:55+00  1970/01/01 00:00:00+00   \n1 -77.058661           NaN  2017/06/03 11:54:03+00  2017/06/03 11:55:05+00   \n2 -77.018034           NaN  2009/02/13 12:03:45+00  2009/02/13 12:03:43+00   \n3 -76.984953           NaN  2014/05/01 19:32:00+00  2014/05/01 19:32:00+00   \n4 -77.008392  CAPITOL HILL  2016/10/02 02:33:43+00  2016/10/02 03:03:13+00   \n5 -77.023963     SOUTHWEST  2016/11/01 14:18:00+00  2016/11/01 15:33:10+00   \n6 -77.023981           NaN  2016/11/26 12:46:22+00  2016/11/26 13:40:07+00   \n7 -77.027208           NaN  2016/12/22 12:10:50+00  2016/12/22 12:20:01+00   \n8 -77.066838           NaN  2016/12/23 13:35:39+00  2016/12/23 17:35:55+00   \n9 -76.996173           NaN  2016/12/21 14:55:30+00  2016/12/21 14:59:47+00   \n\n    OBJECTID  OCTO_RECORD_ID  \n0  508583921     02111617-01  \n1  508583935     07093973-01  \n2  508648875     09251904-01  \n3  508797875     14060710-01  \n4  508889341     16167245-01  \n5  508891174     16186364-01  \n6  508891732     16200706-01  \n7  508892954     16402582-01  \n8  508892955     16402583-01  \n9  508892956     16402584-01  \n\n[10 rows x 25 columns]",
      "text/html": "<div>\n<style scoped>\n    .dataframe tbody tr th:only-of-type {\n        vertical-align: middle;\n    }\n\n    .dataframe tbody tr th {\n        vertical-align: top;\n    }\n\n    .dataframe thead th {\n        text-align: right;\n    }\n</style>\n<table border=\"1\" class=\"dataframe\">\n  <thead>\n    <tr style=\"text-align: right;\">\n      <th></th>\n      <th>X</th>\n      <th>Y</th>\n      <th>CCN</th>\n      <th>REPORT_DAT</th>\n      <th>SHIFT</th>\n      <th>METHOD</th>\n      <th>OFFENSE</th>\n      <th>BLOCK</th>\n      <th>XBLOCK</th>\n      <th>YBLOCK</th>\n      <th>...</th>\n      <th>BLOCK_GROUP</th>\n      <th>CENSUS_TRACT</th>\n      <th>VOTING_PRECINCT</th>\n      <th>LATITUDE</th>\n      <th>LONGITUDE</th>\n      <th>BID</th>\n      <th>START_DATE</th>\n      <th>END_DATE</th>\n      <th>OBJECTID</th>\n      <th>OCTO_RECORD_ID</th>\n    </tr>\n  </thead>\n  <tbody>\n    <tr>\n      <th>0</th>\n      <td>-76.997558</td>\n      <td>38.894384</td>\n      <td>2111617</td>\n      <td>2017/02/06 20:11:14+00</td>\n      <td>EVENING</td>\n      <td>OTHERS</td>\n      <td>THEFT/OTHER</td>\n      <td>600 - 669 BLOCK OF MARYLAND AVENUE NE</td>\n      <td>400212.0</td>\n      <td>136281.0</td>\n      <td>...</td>\n      <td>008302 1</td>\n      <td>008302</td>\n      <td>Precinct 84</td>\n      <td>38.894376</td>\n      <td>-76.997556</td>\n      <td>CAPITOL HILL</td>\n      <td>2017/02/01 11:55:55+00</td>\n      <td>1970/01/01 00:00:00+00</td>\n      <td>508583921</td>\n      <td>02111617-01</td>\n    </tr>\n    <tr>\n      <th>1</th>\n      <td>-77.058663</td>\n      <td>38.906846</td>\n      <td>7093973</td>\n      <td>2017/06/03 12:54:27+00</td>\n      <td>DAY</td>\n      <td>OTHERS</td>\n      <td>THEFT F/AUTO</td>\n      <td>2900 - 2999 BLOCK OF N STREET NW</td>\n      <td>394912.0</td>\n      <td>137666.0</td>\n      <td>...</td>\n      <td>000100 4</td>\n      <td>000100</td>\n      <td>Precinct 5</td>\n      <td>38.906838</td>\n      <td>-77.058661</td>\n      <td>NaN</td>\n      <td>2017/06/03 11:54:03+00</td>\n      <td>2017/06/03 11:55:05+00</td>\n      <td>508583935</td>\n      <td>07093973-01</td>\n    </tr>\n    <tr>\n      <th>2</th>\n      <td>-77.018036</td>\n      <td>38.960747</td>\n      <td>9251904</td>\n      <td>2017/04/07 00:00:00+00</td>\n      <td>MIDNIGHT</td>\n      <td>OTHERS</td>\n      <td>HOMICIDE</td>\n      <td>5800  - 5899 BLOCK OF 4TH STREET NW</td>\n      <td>398437.0</td>\n      <td>143648.0</td>\n      <td>...</td>\n      <td>001902 1</td>\n      <td>001902</td>\n      <td>Precinct 58</td>\n      <td>38.960739</td>\n      <td>-77.018034</td>\n      <td>NaN</td>\n      <td>2009/02/13 12:03:45+00</td>\n      <td>2009/02/13 12:03:43+00</td>\n      <td>508648875</td>\n      <td>09251904-01</td>\n    </tr>\n    <tr>\n      <th>3</th>\n      <td>-76.984955</td>\n      <td>38.915147</td>\n      <td>14060710</td>\n      <td>2017/03/13 00:00:00+00</td>\n      <td>MIDNIGHT</td>\n      <td>OTHERS</td>\n      <td>HOMICIDE</td>\n      <td>2000 - 2099 BLOCK OF FENWICK STREET NE</td>\n      <td>401305.0</td>\n      <td>138586.0</td>\n      <td>...</td>\n      <td>008803 1</td>\n      <td>008803</td>\n      <td>Precinct 76</td>\n      <td>38.915139</td>\n      <td>-76.984953</td>\n      <td>NaN</td>\n      <td>2014/05/01 19:32:00+00</td>\n      <td>2014/05/01 19:32:00+00</td>\n      <td>508797875</td>\n      <td>14060710-01</td>\n    </tr>\n    <tr>\n      <th>4</th>\n      <td>-77.008394</td>\n      <td>38.897203</td>\n      <td>16167245</td>\n      <td>2017/01/08 00:00:00+00</td>\n      <td>MIDNIGHT</td>\n      <td>OTHERS</td>\n      <td>HOMICIDE</td>\n      <td>1 - 99 BLOCK OF MASSACHUSETTS AVENUE NE</td>\n      <td>399272.0</td>\n      <td>136594.0</td>\n      <td>...</td>\n      <td>006202 1</td>\n      <td>006202</td>\n      <td>Precinct 130</td>\n      <td>38.897195</td>\n      <td>-77.008392</td>\n      <td>CAPITOL HILL</td>\n      <td>2016/10/02 02:33:43+00</td>\n      <td>2016/10/02 03:03:13+00</td>\n      <td>508889341</td>\n      <td>16167245-01</td>\n    </tr>\n    <tr>\n      <th>5</th>\n      <td>-77.023965</td>\n      <td>38.887571</td>\n      <td>16186364</td>\n      <td>2017/01/25 12:51:25+00</td>\n      <td>DAY</td>\n      <td>OTHERS</td>\n      <td>THEFT F/AUTO</td>\n      <td>700 - 999 BLOCK OF INDEPENDENCE AVENUE SW</td>\n      <td>397921.0</td>\n      <td>135525.0</td>\n      <td>...</td>\n      <td>010200 2</td>\n      <td>010200</td>\n      <td>Precinct 142</td>\n      <td>38.887563</td>\n      <td>-77.023963</td>\n      <td>SOUTHWEST</td>\n      <td>2016/11/01 14:18:00+00</td>\n      <td>2016/11/01 15:33:10+00</td>\n      <td>508891174</td>\n      <td>16186364-01</td>\n    </tr>\n    <tr>\n      <th>6</th>\n      <td>-77.023983</td>\n      <td>38.906444</td>\n      <td>16200706</td>\n      <td>2017/01/08 14:08:58+00</td>\n      <td>DAY</td>\n      <td>OTHERS</td>\n      <td>THEFT F/AUTO</td>\n      <td>1200 - 1299 BLOCK OF 9TH STREET NW</td>\n      <td>397920.0</td>\n      <td>137620.0</td>\n      <td>...</td>\n      <td>004902 2</td>\n      <td>004902</td>\n      <td>Precinct 129</td>\n      <td>38.906436</td>\n      <td>-77.023981</td>\n      <td>NaN</td>\n      <td>2016/11/26 12:46:22+00</td>\n      <td>2016/11/26 13:40:07+00</td>\n      <td>508891732</td>\n      <td>16200706-01</td>\n    </tr>\n    <tr>\n      <th>7</th>\n      <td>-77.027211</td>\n      <td>38.935098</td>\n      <td>16402582</td>\n      <td>2017/01/03 06:26:18+00</td>\n      <td>MIDNIGHT</td>\n      <td>OTHERS</td>\n      <td>THEFT/OTHER</td>\n      <td>3600 - 3699 BLOCK OF 10TH STREET NW</td>\n      <td>397641.0</td>\n      <td>140801.0</td>\n      <td>...</td>\n      <td>002900 1</td>\n      <td>002900</td>\n      <td>Precinct 42</td>\n      <td>38.935091</td>\n      <td>-77.027208</td>\n      <td>NaN</td>\n      <td>2016/12/22 12:10:50+00</td>\n      <td>2016/12/22 12:20:01+00</td>\n      <td>508892954</td>\n      <td>16402582-01</td>\n    </tr>\n    <tr>\n      <th>8</th>\n      <td>-77.066840</td>\n      <td>38.958954</td>\n      <td>16402583</td>\n      <td>2017/01/03 06:44:15+00</td>\n      <td>MIDNIGHT</td>\n      <td>OTHERS</td>\n      <td>THEFT/OTHER</td>\n      <td>5302 - 5329 BLOCK OF NEVADA AVENUE NW</td>\n      <td>394207.0</td>\n      <td>143451.0</td>\n      <td>...</td>\n      <td>001402 3</td>\n      <td>001402</td>\n      <td>Precinct 138</td>\n      <td>38.958947</td>\n      <td>-77.066838</td>\n      <td>NaN</td>\n      <td>2016/12/23 13:35:39+00</td>\n      <td>2016/12/23 17:35:55+00</td>\n      <td>508892955</td>\n      <td>16402583-01</td>\n    </tr>\n    <tr>\n      <th>9</th>\n      <td>-76.996175</td>\n      <td>38.890375</td>\n      <td>16402584</td>\n      <td>2017/01/03 07:02:06+00</td>\n      <td>DAY</td>\n      <td>OTHERS</td>\n      <td>THEFT/OTHER</td>\n      <td>1 - 99 BLOCK OF 7TH STREET NE</td>\n      <td>400332.0</td>\n      <td>135836.0</td>\n      <td>...</td>\n      <td>008200 1</td>\n      <td>008200</td>\n      <td>Precinct 85</td>\n      <td>38.890367</td>\n      <td>-76.996173</td>\n      <td>NaN</td>\n      <td>2016/12/21 14:55:30+00</td>\n      <td>2016/12/21 14:59:47+00</td>\n      <td>508892956</td>\n      <td>16402584-01</td>\n    </tr>\n  </tbody>\n</table>\n<p>10 rows × 25 columns</p>\n</div>"
     },
     "metadata": {},
     "output_type": "execute_result",
     "execution_count": 8
    }
   ],
   "source": [
    "import pandas as pd\n",
    "import numpy as np\n",
    "#%|%\n",
    "df = pd.read_csv(\"../Data/Crime_Incidents/Crime_Incidents_in_2017.csv\",converters={'CENSUS_TRACT' : str})\n",
    "df.head(10)"
   ]
  },
  {
   "cell_type": "code",
   "execution_count": 9,
   "outputs": [],
   "source": [
    "# test_code1 = '010300'\n",
    "# test_code2 = '001702'\n",
    "# test_code3 = '000902'\n",
    "# answer_code1 = 'Census Tract 103'\n",
    "# answer_code2 = 'Census Tract 17.02'\n",
    "# answer_code3 = 'Census Tract 9.02'\n",
    "def conversion(census_code):\n",
    "    if(census_code != ''):\n",
    "        new_code = census_code[:4] + '.' + census_code[4:]\n",
    "        if(new_code.split('.')[1] == '00'):\n",
    "            new_code = int(new_code.split('.')[0])\n",
    "        else:\n",
    "            new_code= float(new_code)\n",
    "        return 'Census Tract ' + str(new_code)\n",
    "    return ''\n"
   ],
   "metadata": {
    "collapsed": false,
    "pycharm": {
     "name": "#%%\n",
     "is_executing": false
    }
   }
  },
  {
   "cell_type": "code",
   "source": [
    "test = df['CENSUS_TRACT'].tolist()\n",
    "len(test)\n"
   ],
   "metadata": {
    "collapsed": false,
    "pycharm": {
     "name": "#%%\n",
     "is_executing": false
    }
   },
   "execution_count": 10,
   "outputs": [
    {
     "data": {
      "text/plain": "33091"
     },
     "metadata": {},
     "output_type": "execute_result",
     "execution_count": 10
    }
   ]
  },
  {
   "cell_type": "code",
   "execution_count": 11,
   "outputs": [],
   "source": [
    "new_column = []\n",
    "for i in test:\n",
    "    new_code = conversion(i)\n",
    "    new_column.append(new_code)\n",
    "\n"
   ],
   "metadata": {
    "collapsed": false,
    "pycharm": {
     "name": "#%%\n",
     "is_executing": false
    }
   }
  },
  {
   "cell_type": "code",
   "execution_count": 12,
   "outputs": [],
   "source": [
    "df['CENSUS_KEY'] = new_column\n",
    "\n",
    "df.to_csv('../Data/Cleaned/Crime_Incidents_in_2017.csv')"
   ],
   "metadata": {
    "collapsed": false,
    "pycharm": {
     "name": "#%%\n",
     "is_executing": false
    }
   }
  },
  {
   "cell_type": "code",
   "execution_count": null,
   "outputs": [],
   "source": [
    "\n"
   ],
   "metadata": {
    "collapsed": false,
    "pycharm": {
     "name": "#%%\n"
    }
   }
  }
 ],
 "metadata": {
  "language_info": {
   "codemirror_mode": {
    "name": "ipython",
    "version": 2
   },
   "file_extension": ".py",
   "mimetype": "text/x-python",
   "name": "python",
   "nbconvert_exporter": "python",
   "pygments_lexer": "ipython2",
   "version": "2.7.6"
  },
  "kernelspec": {
   "name": "python3",
   "language": "python",
   "display_name": "Python 3"
  },
  "pycharm": {
   "stem_cell": {
    "cell_type": "raw",
    "source": [],
    "metadata": {
     "collapsed": false
    }
   }
  }
 },
 "nbformat": 4,
 "nbformat_minor": 0
}