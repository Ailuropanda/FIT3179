{
 "cells": [
  {
   "cell_type": "code",
   "execution_count": 18,
   "metadata": {
    "collapsed": true,
    "pycharm": {
     "is_executing": false
    }
   },
   "outputs": [
    {
     "data": {
      "text/plain": "           X          Y       CCN              REPORT_DAT     SHIFT  METHOD  \\\n0 -76.972215  38.852618   7006630  2018/07/26 00:00:00+00  MIDNIGHT     GUN   \n1 -77.074960  38.912611  10954295  2018/04/05 21:17:59+00   EVENING  OTHERS   \n2 -76.978422  38.899255  12146972  2018/07/31 00:00:00+00  MIDNIGHT  OTHERS   \n3 -76.929229  38.901839  16208156  2018/01/05 00:00:00+00  MIDNIGHT     GUN   \n4 -76.965614  38.851265  17003498  2018/03/20 00:00:00+00  MIDNIGHT     GUN   \n5 -76.984578  38.898121  17009136  2018/07/09 00:00:00+00  MIDNIGHT     GUN   \n6 -76.922354  38.884206  17046092  2018/01/29 00:00:00+00  MIDNIGHT  OTHERS   \n7 -76.995474  38.858756  17070029  2018/01/09 00:00:00+00  MIDNIGHT     GUN   \n8 -76.990059  38.858467  17059213  2018/05/23 08:28:51+00       DAY  OTHERS   \n9 -76.924663  38.902845  18188286  2018/11/05 21:44:19+00   EVENING   KNIFE   \n\n                      OFFENSE  \\\n0                    HOMICIDE   \n1                   SEX ABUSE   \n2                    HOMICIDE   \n3                    HOMICIDE   \n4                    HOMICIDE   \n5                    HOMICIDE   \n6                    HOMICIDE   \n7                    HOMICIDE   \n8                THEFT F/AUTO   \n9  ASSAULT W/DANGEROUS WEAPON   \n\n                                               BLOCK    XBLOCK    YBLOCK  ...  \\\n0                3100 - 3198 BLOCK OF 24TH STREET SE  402412.0  131645.0  ...   \n1             3810 - 3899 BLOCK OF RESERVOIR ROAD NW  393499.0  138307.0  ...   \n2               1700 - 1799 BLOCK OF BENNING ROAD NE  401872.0  136822.0  ...   \n3                 4916 - 5067 BLOCK OF JAY STREET NE  406139.0  137111.0  ...   \n4        3030 - 3299 BLOCK OF BUENA VISTA TERRACE SE  402985.0  131495.0  ...   \n5                   600 - 699 BLOCK OF 14TH PLACE NE  401338.0  136696.0  ...   \n6                   5400 - 5599 BLOCK OF C STREET SE  406737.0  135154.0  ...   \n7  2600 - 2631 BLOCK OF MARTIN LUTHER KING JR AVE...  400393.0  132326.0  ...   \n8               2627 - 2699 BLOCK OF STANTON ROAD SE  400863.0  132294.0  ...   \n9                5200 - 5299 BLOCK OF JUST STREET NE  406535.0  137223.0  ...   \n\n   BLOCK_GROUP CENSUS_TRACT  VOTING_PRECINCT   LATITUDE  LONGITUDE        BID  \\\n0     007408 1       007408     Precinct 115  38.852610 -76.972212        NaN   \n1     000201 1       000201       Precinct 6  38.912603 -77.074958        NaN   \n2     007901 1       007901      Precinct 81  38.899248 -76.978419        NaN   \n3     007809 1       007809      Precinct 94  38.901832 -76.929227        NaN   \n4     007502 2       007502     Precinct 115  38.851257 -76.965612        NaN   \n5     008001 1       008001      Precinct 81  38.898114 -76.984576        NaN   \n6     009905 2       009905     Precinct 105  38.884198 -76.922352        NaN   \n7     007401 2       007401     Precinct 119  38.858748 -76.995472  ANACOSTIA   \n8     007406 1       007406     Precinct 118  38.858459 -76.990057        NaN   \n9     007809 1       007809      Precinct 94  38.902838 -76.924660        NaN   \n\n               START_DATE                END_DATE   OBJECTID  OCTO_RECORD_ID  \n0  2007/01/14 23:30:00+00  2007/01/14 00:00:00+00  508583933     07006630-01  \n1  2018/04/01 00:01:17+00  2018/04/05 21:18:34+00  508680862     10954295-01  \n2  2012/10/18 00:10:00+00  2012/10/18 00:12:00+00  508740905     12146972-01  \n3  2016/12/09 09:07:12+00  2016/12/09 09:11:51+00  508893142     16208156-01  \n4  2017/01/06 19:01:52+00  2017/01/06 19:10:39+00  508895032     17003498-01  \n5  2017/01/17 06:38:02+00  1970/01/01 00:00:00+00  508896298     17009136-02  \n6  2017/03/21 15:00:37+00  2017/03/21 21:36:09+00  508902538     17046092-01  \n7  2017/04/28 12:21:45+00  1970/01/01 00:00:00+00  508907625     17070029-01  \n8  2018/05/23 07:47:19+00  1970/01/01 00:00:00+00  508909557     17059213-01  \n9  2018/11/05 20:11:33+00  2018/11/05 21:44:36+00  508925389     18188286-01  \n\n[10 rows x 25 columns]",
      "text/html": "<div>\n<style scoped>\n    .dataframe tbody tr th:only-of-type {\n        vertical-align: middle;\n    }\n\n    .dataframe tbody tr th {\n        vertical-align: top;\n    }\n\n    .dataframe thead th {\n        text-align: right;\n    }\n</style>\n<table border=\"1\" class=\"dataframe\">\n  <thead>\n    <tr style=\"text-align: right;\">\n      <th></th>\n      <th>X</th>\n      <th>Y</th>\n      <th>CCN</th>\n      <th>REPORT_DAT</th>\n      <th>SHIFT</th>\n      <th>METHOD</th>\n      <th>OFFENSE</th>\n      <th>BLOCK</th>\n      <th>XBLOCK</th>\n      <th>YBLOCK</th>\n      <th>...</th>\n      <th>BLOCK_GROUP</th>\n      <th>CENSUS_TRACT</th>\n      <th>VOTING_PRECINCT</th>\n      <th>LATITUDE</th>\n      <th>LONGITUDE</th>\n      <th>BID</th>\n      <th>START_DATE</th>\n      <th>END_DATE</th>\n      <th>OBJECTID</th>\n      <th>OCTO_RECORD_ID</th>\n    </tr>\n  </thead>\n  <tbody>\n    <tr>\n      <th>0</th>\n      <td>-76.972215</td>\n      <td>38.852618</td>\n      <td>7006630</td>\n      <td>2018/07/26 00:00:00+00</td>\n      <td>MIDNIGHT</td>\n      <td>GUN</td>\n      <td>HOMICIDE</td>\n      <td>3100 - 3198 BLOCK OF 24TH STREET SE</td>\n      <td>402412.0</td>\n      <td>131645.0</td>\n      <td>...</td>\n      <td>007408 1</td>\n      <td>007408</td>\n      <td>Precinct 115</td>\n      <td>38.852610</td>\n      <td>-76.972212</td>\n      <td>NaN</td>\n      <td>2007/01/14 23:30:00+00</td>\n      <td>2007/01/14 00:00:00+00</td>\n      <td>508583933</td>\n      <td>07006630-01</td>\n    </tr>\n    <tr>\n      <th>1</th>\n      <td>-77.074960</td>\n      <td>38.912611</td>\n      <td>10954295</td>\n      <td>2018/04/05 21:17:59+00</td>\n      <td>EVENING</td>\n      <td>OTHERS</td>\n      <td>SEX ABUSE</td>\n      <td>3810 - 3899 BLOCK OF RESERVOIR ROAD NW</td>\n      <td>393499.0</td>\n      <td>138307.0</td>\n      <td>...</td>\n      <td>000201 1</td>\n      <td>000201</td>\n      <td>Precinct 6</td>\n      <td>38.912603</td>\n      <td>-77.074958</td>\n      <td>NaN</td>\n      <td>2018/04/01 00:01:17+00</td>\n      <td>2018/04/05 21:18:34+00</td>\n      <td>508680862</td>\n      <td>10954295-01</td>\n    </tr>\n    <tr>\n      <th>2</th>\n      <td>-76.978422</td>\n      <td>38.899255</td>\n      <td>12146972</td>\n      <td>2018/07/31 00:00:00+00</td>\n      <td>MIDNIGHT</td>\n      <td>OTHERS</td>\n      <td>HOMICIDE</td>\n      <td>1700 - 1799 BLOCK OF BENNING ROAD NE</td>\n      <td>401872.0</td>\n      <td>136822.0</td>\n      <td>...</td>\n      <td>007901 1</td>\n      <td>007901</td>\n      <td>Precinct 81</td>\n      <td>38.899248</td>\n      <td>-76.978419</td>\n      <td>NaN</td>\n      <td>2012/10/18 00:10:00+00</td>\n      <td>2012/10/18 00:12:00+00</td>\n      <td>508740905</td>\n      <td>12146972-01</td>\n    </tr>\n    <tr>\n      <th>3</th>\n      <td>-76.929229</td>\n      <td>38.901839</td>\n      <td>16208156</td>\n      <td>2018/01/05 00:00:00+00</td>\n      <td>MIDNIGHT</td>\n      <td>GUN</td>\n      <td>HOMICIDE</td>\n      <td>4916 - 5067 BLOCK OF JAY STREET NE</td>\n      <td>406139.0</td>\n      <td>137111.0</td>\n      <td>...</td>\n      <td>007809 1</td>\n      <td>007809</td>\n      <td>Precinct 94</td>\n      <td>38.901832</td>\n      <td>-76.929227</td>\n      <td>NaN</td>\n      <td>2016/12/09 09:07:12+00</td>\n      <td>2016/12/09 09:11:51+00</td>\n      <td>508893142</td>\n      <td>16208156-01</td>\n    </tr>\n    <tr>\n      <th>4</th>\n      <td>-76.965614</td>\n      <td>38.851265</td>\n      <td>17003498</td>\n      <td>2018/03/20 00:00:00+00</td>\n      <td>MIDNIGHT</td>\n      <td>GUN</td>\n      <td>HOMICIDE</td>\n      <td>3030 - 3299 BLOCK OF BUENA VISTA TERRACE SE</td>\n      <td>402985.0</td>\n      <td>131495.0</td>\n      <td>...</td>\n      <td>007502 2</td>\n      <td>007502</td>\n      <td>Precinct 115</td>\n      <td>38.851257</td>\n      <td>-76.965612</td>\n      <td>NaN</td>\n      <td>2017/01/06 19:01:52+00</td>\n      <td>2017/01/06 19:10:39+00</td>\n      <td>508895032</td>\n      <td>17003498-01</td>\n    </tr>\n    <tr>\n      <th>5</th>\n      <td>-76.984578</td>\n      <td>38.898121</td>\n      <td>17009136</td>\n      <td>2018/07/09 00:00:00+00</td>\n      <td>MIDNIGHT</td>\n      <td>GUN</td>\n      <td>HOMICIDE</td>\n      <td>600 - 699 BLOCK OF 14TH PLACE NE</td>\n      <td>401338.0</td>\n      <td>136696.0</td>\n      <td>...</td>\n      <td>008001 1</td>\n      <td>008001</td>\n      <td>Precinct 81</td>\n      <td>38.898114</td>\n      <td>-76.984576</td>\n      <td>NaN</td>\n      <td>2017/01/17 06:38:02+00</td>\n      <td>1970/01/01 00:00:00+00</td>\n      <td>508896298</td>\n      <td>17009136-02</td>\n    </tr>\n    <tr>\n      <th>6</th>\n      <td>-76.922354</td>\n      <td>38.884206</td>\n      <td>17046092</td>\n      <td>2018/01/29 00:00:00+00</td>\n      <td>MIDNIGHT</td>\n      <td>OTHERS</td>\n      <td>HOMICIDE</td>\n      <td>5400 - 5599 BLOCK OF C STREET SE</td>\n      <td>406737.0</td>\n      <td>135154.0</td>\n      <td>...</td>\n      <td>009905 2</td>\n      <td>009905</td>\n      <td>Precinct 105</td>\n      <td>38.884198</td>\n      <td>-76.922352</td>\n      <td>NaN</td>\n      <td>2017/03/21 15:00:37+00</td>\n      <td>2017/03/21 21:36:09+00</td>\n      <td>508902538</td>\n      <td>17046092-01</td>\n    </tr>\n    <tr>\n      <th>7</th>\n      <td>-76.995474</td>\n      <td>38.858756</td>\n      <td>17070029</td>\n      <td>2018/01/09 00:00:00+00</td>\n      <td>MIDNIGHT</td>\n      <td>GUN</td>\n      <td>HOMICIDE</td>\n      <td>2600 - 2631 BLOCK OF MARTIN LUTHER KING JR AVE...</td>\n      <td>400393.0</td>\n      <td>132326.0</td>\n      <td>...</td>\n      <td>007401 2</td>\n      <td>007401</td>\n      <td>Precinct 119</td>\n      <td>38.858748</td>\n      <td>-76.995472</td>\n      <td>ANACOSTIA</td>\n      <td>2017/04/28 12:21:45+00</td>\n      <td>1970/01/01 00:00:00+00</td>\n      <td>508907625</td>\n      <td>17070029-01</td>\n    </tr>\n    <tr>\n      <th>8</th>\n      <td>-76.990059</td>\n      <td>38.858467</td>\n      <td>17059213</td>\n      <td>2018/05/23 08:28:51+00</td>\n      <td>DAY</td>\n      <td>OTHERS</td>\n      <td>THEFT F/AUTO</td>\n      <td>2627 - 2699 BLOCK OF STANTON ROAD SE</td>\n      <td>400863.0</td>\n      <td>132294.0</td>\n      <td>...</td>\n      <td>007406 1</td>\n      <td>007406</td>\n      <td>Precinct 118</td>\n      <td>38.858459</td>\n      <td>-76.990057</td>\n      <td>NaN</td>\n      <td>2018/05/23 07:47:19+00</td>\n      <td>1970/01/01 00:00:00+00</td>\n      <td>508909557</td>\n      <td>17059213-01</td>\n    </tr>\n    <tr>\n      <th>9</th>\n      <td>-76.924663</td>\n      <td>38.902845</td>\n      <td>18188286</td>\n      <td>2018/11/05 21:44:19+00</td>\n      <td>EVENING</td>\n      <td>KNIFE</td>\n      <td>ASSAULT W/DANGEROUS WEAPON</td>\n      <td>5200 - 5299 BLOCK OF JUST STREET NE</td>\n      <td>406535.0</td>\n      <td>137223.0</td>\n      <td>...</td>\n      <td>007809 1</td>\n      <td>007809</td>\n      <td>Precinct 94</td>\n      <td>38.902838</td>\n      <td>-76.924660</td>\n      <td>NaN</td>\n      <td>2018/11/05 20:11:33+00</td>\n      <td>2018/11/05 21:44:36+00</td>\n      <td>508925389</td>\n      <td>18188286-01</td>\n    </tr>\n  </tbody>\n</table>\n<p>10 rows × 25 columns</p>\n</div>"
     },
     "metadata": {},
     "output_type": "execute_result",
     "execution_count": 18
    }
   ],
   "source": [
    "import pandas as pd\n",
    "import numpy as np\n",
    "#%|%\n",
    "df = pd.read_csv(\"../Data/Crime_Incidents/Crime_Incidents_in_2018.csv\",converters={'CENSUS_TRACT' : str})\n",
    "df.head(10)"
   ]
  },
  {
   "cell_type": "code",
   "execution_count": 19,
   "outputs": [],
   "source": [
    "# test_code1 = '010300'\n",
    "# test_code2 = '001702'\n",
    "# test_code3 = '000902'\n",
    "# answer_code1 = 'Census Tract 103'\n",
    "# answer_code2 = 'Census Tract 17.02'\n",
    "# answer_code3 = 'Census Tract 9.02'\n",
    "def conversion(census_code):\n",
    "    if(census_code != ''):\n",
    "        new_code = census_code[:4] + '.' + census_code[4:]\n",
    "        if(new_code.split('.')[1] == '00'):\n",
    "            new_code = int(new_code.split('.')[0])\n",
    "        else:\n",
    "            new_code= float(new_code)\n",
    "            new_code = \"{:.2f}\".format(new_code)\n",
    "        return 'Census Tract ' + str(new_code)\n",
    "    return ''\n"
   ],
   "metadata": {
    "collapsed": false,
    "pycharm": {
     "name": "#%%\n",
     "is_executing": false
    }
   }
  },
  {
   "cell_type": "code",
   "source": [
    "test = df['CENSUS_TRACT'].tolist()\n",
    "len(test)\n"
   ],
   "metadata": {
    "collapsed": false,
    "pycharm": {
     "name": "#%%\n",
     "is_executing": false
    }
   },
   "execution_count": 20,
   "outputs": [
    {
     "data": {
      "text/plain": "33754"
     },
     "metadata": {},
     "output_type": "execute_result",
     "execution_count": 20
    }
   ]
  },
  {
   "cell_type": "code",
   "execution_count": 21,
   "outputs": [],
   "source": [
    "new_column = []\n",
    "for i in test:\n",
    "    new_code = conversion(i)\n",
    "    new_column.append(new_code)\n",
    "\n"
   ],
   "metadata": {
    "collapsed": false,
    "pycharm": {
     "name": "#%%\n",
     "is_executing": false
    }
   }
  },
  {
   "cell_type": "code",
   "execution_count": 22,
   "outputs": [],
   "source": [
    "df['CENSUS_KEY'] = new_column\n",
    "\n",
    "df.to_csv('../Data/Cleaned/Crime_Incidents_in_2018.csv')"
   ],
   "metadata": {
    "collapsed": false,
    "pycharm": {
     "name": "#%%\n",
     "is_executing": false
    }
   }
  },
  {
   "cell_type": "code",
   "execution_count": null,
   "outputs": [],
   "source": [
    "\n"
   ],
   "metadata": {
    "collapsed": false,
    "pycharm": {
     "name": "#%%\n"
    }
   }
  }
 ],
 "metadata": {
  "language_info": {
   "codemirror_mode": {
    "name": "ipython",
    "version": 2
   },
   "file_extension": ".py",
   "mimetype": "text/x-python",
   "name": "python",
   "nbconvert_exporter": "python",
   "pygments_lexer": "ipython2",
   "version": "2.7.6"
  },
  "kernelspec": {
   "name": "python3",
   "language": "python",
   "display_name": "Python 3"
  },
  "pycharm": {
   "stem_cell": {
    "cell_type": "raw",
    "source": [],
    "metadata": {
     "collapsed": false
    }
   }
  }
 },
 "nbformat": 4,
 "nbformat_minor": 0
}